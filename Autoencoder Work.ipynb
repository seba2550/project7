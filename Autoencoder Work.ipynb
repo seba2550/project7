{
 "cells": [
  {
   "cell_type": "markdown",
   "id": "fc413c24",
   "metadata": {},
   "source": [
    "## Import necessary libraries"
   ]
  },
  {
   "cell_type": "code",
   "execution_count": 1,
   "id": "f5897b1a",
   "metadata": {},
   "outputs": [],
   "source": [
    "from nn import nn, preprocess, io\n",
    "import numpy as np\n",
    "import matplotlib.pyplot as plt\n",
    "from sklearn.model_selection import train_test_split\n",
    "from sklearn.datasets import load_digits"
   ]
  },
  {
   "cell_type": "markdown",
   "id": "9ac780d0",
   "metadata": {},
   "source": [
    "## Create neural network instance"
   ]
  },
  {
   "cell_type": "markdown",
   "id": "bf1cfdab",
   "metadata": {},
   "source": [
    "This is an instance of an autoencoder with two standard layers: an encoding layer and a decoding layer. The input dimensions for the first layer and output dimensions for the second layer are the same because this is essentially trying to recreate the input after passing it through a lower-dimensional latent space. I used a relu activation function for the final layer because its output will be in the range (0,1). Given that we're trying to recreate the pixel intensities for the digits dataset (and the fact that this is not a classification problem), I opted for this function. I used a sigmoid function in the first layer because in conjunction with relu it provided the best observed loss decrease.\n",
    "\n",
    "The learning rate is extremely small because otherwise the loss starts to increase.\n",
    "\n",
    "I chose 50 epochs to train the model because by then the model has converged (in terms of loss decrease, at least)\n",
    "\n",
    "And finally, I chose the mean squared error loss function because the outputs are between 0 and 1, and therefore the BCE loss function would not be applicable here."
   ]
  },
  {
   "cell_type": "code",
   "execution_count": 50,
   "id": "294b5b6b",
   "metadata": {},
   "outputs": [],
   "source": [
    "arch = [{'input_dim': 64, 'output_dim': 16, 'activation': 'sigmoid'},\n",
    "       {'input_dim': 16, 'output_dim': 64, 'activation': 'relu'}] # output layer\n",
    "\n",
    "lr = 0.0001 # Seems like a good place to start\n",
    "n_seed = 42\n",
    "batch_size = 1000 \n",
    "epochs = 50\n",
    "loss_fun = 'mse'\n",
    "\n",
    "nn_ae = nn.NeuralNetwork(arch, lr, n_seed, batch_size, epochs, loss_fun)"
   ]
  },
  {
   "cell_type": "markdown",
   "id": "499d0871",
   "metadata": {},
   "source": [
    "## Read in the 'digits' dataset using sklearn"
   ]
  },
  {
   "cell_type": "code",
   "execution_count": 51,
   "id": "e73e7a52",
   "metadata": {},
   "outputs": [],
   "source": [
    "digits = load_digits()"
   ]
  },
  {
   "cell_type": "code",
   "execution_count": 52,
   "id": "471e853e",
   "metadata": {},
   "outputs": [
    {
     "data": {
      "text/plain": [
       "<Figure size 432x288 with 0 Axes>"
      ]
     },
     "metadata": {},
     "output_type": "display_data"
    },
    {
     "data": {
      "image/png": "[encoded data removed]",
      "text/plain": [
       "<Figure size 288x288 with 1 Axes>"
      ]
     },
     "metadata": {
      "needs_background": "light"
     },
     "output_type": "display_data"
    }
   ],
   "source": [
    "plt.gray()\n",
    "plt.matshow(digits.images[0])\n",
    "plt.show() # Let's have a look"
   ]
  },
  {
   "cell_type": "code",
   "execution_count": 53,
   "id": "dc46b09f",
   "metadata": {},
   "outputs": [],
   "source": [
    "X = digits.data\n",
    "y = digits.target"
   ]
  },
  {
   "cell_type": "markdown",
   "id": "64e3e693",
   "metadata": {},
   "source": [
    "## Split the 'digits' data into training and validation"
   ]
  },
  {
   "cell_type": "code",
   "execution_count": 54,
   "id": "73dfb5c6",
   "metadata": {},
   "outputs": [],
   "source": [
    "X_train, X_val, y_train, y_val = train_test_split(X,y, train_size=0.8) # 80/20 ratio is supposedly standard for training/validation in autoencoders so split it like that"
   ]
  },
  {
   "cell_type": "markdown",
   "id": "9cc57bea",
   "metadata": {},
   "source": [
    "## Fit the model"
   ]
  },
  {
   "cell_type": "code",
   "execution_count": 55,
   "id": "d0484245",
   "metadata": {},
   "outputs": [],
   "source": [
    "train_loss, val_loss = nn_ae.fit(X_train, X_train, X_val, X_val)"
   ]
  },
  {
   "cell_type": "code",
   "execution_count": 56,
   "id": "2310fb2d",
   "metadata": {},
   "outputs": [],
   "source": [
    "pred = nn_ae.predict(X_val)"
   ]
  },
  {
   "cell_type": "markdown",
   "id": "07b58442",
   "metadata": {},
   "source": [
    "## Get the reconstruction error over the held-out validation set"
   ]
  },
  {
   "cell_type": "code",
   "execution_count": 57,
   "id": "ed13c71e",
   "metadata": {},
   "outputs": [
    {
     "data": {
      "text/plain": [
       "58.50410528304235"
      ]
     },
     "execution_count": 57,
     "metadata": {},
     "output_type": "execute_result"
    }
   ],
   "source": [
    "nn_ae._mean_squared_error(pred, X_val)"
   ]
  },
  {
   "cell_type": "code",
   "execution_count": 58,
   "id": "c1d3bf93",
   "metadata": {},
   "outputs": [
    {
     "data": {
      "image/png": "[encoded data removed]",
      "text/plain": [
       "<Figure size 432x288 with 1 Axes>"
      ]
     },
     "metadata": {
      "needs_background": "light"
     },
     "output_type": "display_data"
    }
   ],
   "source": [
    "plt.plot(train_loss)\n",
    "plt.show()"
   ]
  },
  {
   "cell_type": "code",
   "execution_count": 59,
   "id": "0cad30b5",
   "metadata": {},
   "outputs": [
    {
     "data": {
      "image/png": "[encoded data removed]",
      "text/plain": [
       "<Figure size 432x288 with 1 Axes>"
      ]
     },
     "metadata": {
      "needs_background": "light"
     },
     "output_type": "display_data"
    }
   ],
   "source": [
    "plt.plot(val_loss)\n",
    "plt.show()"
   ]
  }
 ],
 "metadata": {
  "kernelspec": {
   "display_name": "Python 3 (ipykernel)",
   "language": "python",
   "name": "python3"
  },
  "language_info": {
   "codemirror_mode": {
    "name": "ipython",
    "version": 3
   },
   "file_extension": ".py",
   "mimetype": "text/x-python",
   "name": "python",
   "nbconvert_exporter": "python",
   "pygments_lexer": "ipython3",
   "version": "3.9.0"
  }
 },
 "nbformat": 4,
 "nbformat_minor": 5
}

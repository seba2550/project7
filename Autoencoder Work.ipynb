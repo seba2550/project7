{
 "cells": [
  {
   "cell_type": "markdown",
   "id": "fc413c24",
   "metadata": {},
   "source": [
    "## Import necessary libraries"
   ]
  },
  {
   "cell_type": "code",
   "execution_count": 1,
   "id": "f5897b1a",
   "metadata": {},
   "outputs": [],
   "source": [
    "from nn import nn, preprocess, io\n",
    "import numpy as np\n",
    "import matplotlib.pyplot as plt\n",
    "from sklearn.model_selection import train_test_split\n",
    "from sklearn.datasets import load_digits"
   ]
  },
  {
   "cell_type": "markdown",
   "id": "9ac780d0",
   "metadata": {},
   "source": [
    "## Create neural network instance"
   ]
  },
  {
   "cell_type": "code",
   "execution_count": 2,
   "id": "294b5b6b",
   "metadata": {},
   "outputs": [],
   "source": [
    "arch = [{'input_dim': 64, 'output_dim': 16, 'activation': 'sigmoid'},\n",
    "       {'input_dim': 16, 'output_dim': 64, 'activation': 'sigmoid'}] # output layer\n",
    "\n",
    "lr = 0.01 # Seems like a good place to start\n",
    "n_seed = 42\n",
    "batch_size = 200 \n",
    "epochs = 200\n",
    "loss_fun = 'mse'\n",
    "\n",
    "nn_ae = nn.NeuralNetwork(arch, lr, n_seed, batch_size, epochs, loss_fun)"
   ]
  },
  {
   "cell_type": "markdown",
   "id": "499d0871",
   "metadata": {},
   "source": [
    "## Read in the 'digits' dataset using sklearn"
   ]
  },
  {
   "cell_type": "code",
   "execution_count": 3,
   "id": "e73e7a52",
   "metadata": {},
   "outputs": [],
   "source": [
    "digits = load_digits()"
   ]
  },
  {
   "cell_type": "code",
   "execution_count": 4,
   "id": "471e853e",
   "metadata": {},
   "outputs": [
    {
     "data": {
      "text/plain": [
       "<Figure size 432x288 with 0 Axes>"
      ]
     },
     "metadata": {},
     "output_type": "display_data"
    },
    {
     "data": {
      "image/png": "[encoded data removed]",
      "text/plain": [
       "<Figure size 288x288 with 1 Axes>"
      ]
     },
     "metadata": {
      "needs_background": "light"
     },
     "output_type": "display_data"
    }
   ],
   "source": [
    "plt.gray()\n",
    "plt.matshow(digits.images[0])\n",
    "plt.show() # Let's have a look"
   ]
  },
  {
   "cell_type": "code",
   "execution_count": 5,
   "id": "dc46b09f",
   "metadata": {},
   "outputs": [],
   "source": [
    "X = digits.data\n",
    "y = digits.target"
   ]
  },
  {
   "cell_type": "markdown",
   "id": "64e3e693",
   "metadata": {},
   "source": [
    "## Split the 'digits' data into training and validation"
   ]
  },
  {
   "cell_type": "code",
   "execution_count": 6,
   "id": "73dfb5c6",
   "metadata": {},
   "outputs": [],
   "source": [
    "X_train, X_val, y_train, y_val = train_test_split(X,y, train_size=0.8, random_state = 42) # 80/20 ratio is supposedly standard for training/validation in the field so split it like that"
   ]
  },
  {
   "cell_type": "code",
   "execution_count": 7,
   "id": "d0484245",
   "metadata": {},
   "outputs": [
    {
     "name": "stderr",
     "output_type": "stream",
     "text": [
      "/home/sebastian/Documents/GitHub/project7/nn/nn.py:365: RuntimeWarning: overflow encountered in exp\n",
      "  return 1/(1+np.exp(-Z))\n"
     ]
    }
   ],
   "source": [
    "train_loss, val_loss = nn_ae.fit(X_train, X_train, X_val, X_val)"
   ]
  },
  {
   "cell_type": "markdown",
   "id": "422fcab8",
   "metadata": {},
   "source": [
    "## Use the trained model to make predictions over the validation set"
   ]
  },
  {
   "cell_type": "code",
   "execution_count": 12,
   "id": "ded7897c",
   "metadata": {},
   "outputs": [
    {
     "name": "stderr",
     "output_type": "stream",
     "text": [
      "/home/sebastian/Documents/GitHub/project7/nn/nn.py:365: RuntimeWarning: overflow encountered in exp\n",
      "  return 1/(1+np.exp(-Z))\n"
     ]
    }
   ],
   "source": [
    "val_preds = nn_ae.predict(X_val)"
   ]
  },
  {
   "cell_type": "markdown",
   "id": "cb66434a",
   "metadata": {},
   "source": [
    "## Calculate the MSE for the trained model over the validation set"
   ]
  },
  {
   "cell_type": "code",
   "execution_count": 14,
   "id": "3d1f1360",
   "metadata": {},
   "outputs": [
    {
     "data": {
      "text/plain": [
       "54.946758166400336"
      ]
     },
     "execution_count": 14,
     "metadata": {},
     "output_type": "execute_result"
    }
   ],
   "source": [
    "nn_ae._mean_squared_error(val_preds, X_val)"
   ]
  },
  {
   "cell_type": "markdown",
   "id": "431adfe1",
   "metadata": {},
   "source": [
    "## Plot the losses"
   ]
  },
  {
   "cell_type": "code",
   "execution_count": 15,
   "id": "09033aa3",
   "metadata": {},
   "outputs": [
    {
     "data": {
      "image/png": "[encoded data removed]",
      "text/plain": [
       "<Figure size 432x288 with 1 Axes>"
      ]
     },
     "metadata": {
      "needs_background": "light"
     },
     "output_type": "display_data"
    }
   ],
   "source": [
    "plt.plot(train_loss)\n",
    "plt.show()"
   ]
  },
  {
   "cell_type": "code",
   "execution_count": 16,
   "id": "96128c87",
   "metadata": {},
   "outputs": [
    {
     "data": {
      "text/plain": [
       "<function matplotlib.pyplot.show(close=None, block=None)>"
      ]
     },
     "execution_count": 16,
     "metadata": {},
     "output_type": "execute_result"
    },
    {
     "data": {
      "image/png": "[encoded data removed]",
      "text/plain": [
       "<Figure size 432x288 with 1 Axes>"
      ]
     },
     "metadata": {
      "needs_background": "light"
     },
     "output_type": "display_data"
    }
   ],
   "source": [
    "plt.plot(val_loss)\n",
    "plt.show"
   ]
  },
  {
   "cell_type": "code",
   "execution_count": null,
   "id": "b256a710",
   "metadata": {},
   "outputs": [],
   "source": []
  }
 ],
 "metadata": {
  "kernelspec": {
   "display_name": "Python 3 (ipykernel)",
   "language": "python",
   "name": "python3"
  },
  "language_info": {
   "codemirror_mode": {
    "name": "ipython",
    "version": 3
   },
   "file_extension": ".py",
   "mimetype": "text/x-python",
   "name": "python",
   "nbconvert_exporter": "python",
   "pygments_lexer": "ipython3",
   "version": "3.9.7"
  }
 },
 "nbformat": 4,
 "nbformat_minor": 5
}

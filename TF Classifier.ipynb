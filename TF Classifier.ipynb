{
 "cells": [
  {
   "cell_type": "markdown",
   "id": "af33b616",
   "metadata": {},
   "source": [
    "## Import the necessary libraries"
   ]
  },
  {
   "cell_type": "code",
   "execution_count": 1,
   "id": "f42f0f42",
   "metadata": {},
   "outputs": [],
   "source": [
    "from nn import nn, preprocess, io\n",
    "import numpy as np\n",
    "import matplotlib.pyplot as plt\n",
    "from sklearn.model_selection import train_test_split"
   ]
  },
  {
   "cell_type": "markdown",
   "id": "6c8151d6",
   "metadata": {},
   "source": [
    "## Read in the positive and negative sequence files"
   ]
  },
  {
   "cell_type": "code",
   "execution_count": 2,
   "id": "96c2c681",
   "metadata": {},
   "outputs": [],
   "source": [
    "pos_seqs = io.read_text_file(\"./data/rap1-lieb-positives.txt\")\n",
    "neg_seqs = io.read_fasta_file(\"./data/yeast-upstream-1k-negative.fa\")"
   ]
  },
  {
   "cell_type": "markdown",
   "id": "31cca30d",
   "metadata": {},
   "source": [
    "## Split the data"
   ]
  },
  {
   "cell_type": "markdown",
   "id": "a0413aed",
   "metadata": {},
   "source": [
    "The positive sequences are 17 nucleotides in length, whereas the negative sequences are 1,000 nucleotides each. We will therefore split the negative sequences into 17 nucleotide fragments"
   ]
  },
  {
   "cell_type": "code",
   "execution_count": 3,
   "id": "29a722df",
   "metadata": {},
   "outputs": [],
   "source": [
    "target_length = len(pos_seqs[0])\n",
    "negatives_split = []\n",
    "for seq in neg_seqs:\n",
    "    split = []\n",
    "    for i in range(int(len(seq)/target_length)):\n",
    "        split.append(seq[i*target_length:(i+1)*target_length])\n",
    "    negatives_split += split"
   ]
  },
  {
   "cell_type": "markdown",
   "id": "bc9be164",
   "metadata": {},
   "source": [
    "Now we just concatenate the two groups of sequences into our X feature matrix. Additionally, we create a target vector with 0s and 1s (negative seqs and positive seqs, respectively). The amount of 0s and 1s corresponds to the number of negative and positive sequences."
   ]
  },
  {
   "cell_type": "code",
   "execution_count": 4,
   "id": "ef696c40",
   "metadata": {},
   "outputs": [],
   "source": [
    "X = pos_seqs + negatives_split\n",
    "y = np.concatenate([np.ones(len(pos_seqs)), np.zeros(len(negatives_split))]).tolist()"
   ]
  },
  {
   "cell_type": "markdown",
   "id": "8e34b72e",
   "metadata": {},
   "source": [
    "## Implement upsampling procedure"
   ]
  },
  {
   "cell_type": "markdown",
   "id": "5237abd4",
   "metadata": {},
   "source": [
    "The implemented scheme takes the less predominant label and samples from it with replacement. It samples until it's the same size as the predominant label. This upsamples the minority label to increase its signal and balance the data. We then sample the corresponding sequences using these balanced labels."
   ]
  },
  {
   "cell_type": "code",
   "execution_count": 5,
   "id": "c559ecf5",
   "metadata": {},
   "outputs": [],
   "source": [
    "X, y = preprocess.sample_seqs(X, y)"
   ]
  },
  {
   "cell_type": "markdown",
   "id": "a55fb26e",
   "metadata": {},
   "source": [
    "## One-Hot Encoding procedure"
   ]
  },
  {
   "cell_type": "markdown",
   "id": "f8217c59",
   "metadata": {},
   "source": [
    "This scheme implements a dictionary with the numerical encodings for each nucleotide. It iterates over all of the sequences given as input, and applies a list comprehension to each character in the string it's reading, creating a numpy array with the values from the nucleotide encoding dictionary. "
   ]
  },
  {
   "cell_type": "code",
   "execution_count": 6,
   "id": "95680615",
   "metadata": {},
   "outputs": [],
   "source": [
    "X = preprocess.one_hot_encode_seqs(X)"
   ]
  },
  {
   "cell_type": "markdown",
   "id": "67db811f",
   "metadata": {},
   "source": [
    "## Split the data"
   ]
  },
  {
   "cell_type": "markdown",
   "id": "0f4ae728",
   "metadata": {},
   "source": [
    "Not much to say, this is the Scikit-Learn implementation for splitting data, most commonly for ML applications. I used a random state of 42 because it's the answer to the ultimate question of life, the universe, and everything, and a standard split of 70/30 (training/test)."
   ]
  },
  {
   "cell_type": "code",
   "execution_count": 7,
   "id": "7f4d2e5a",
   "metadata": {},
   "outputs": [],
   "source": [
    "X_train, X_test, y_train, y_test = train_test_split(X, y, test_size=0.3, random_state=42)"
   ]
  },
  {
   "cell_type": "code",
   "execution_count": 8,
   "id": "cbe803dc",
   "metadata": {},
   "outputs": [],
   "source": [
    "y_train = np.array(y_train) # Convert the target vectors to numpy arrays to interact with the neural network\n",
    "y_test = np.array(y_test)"
   ]
  },
  {
   "cell_type": "markdown",
   "id": "95ff0a93",
   "metadata": {},
   "source": [
    "## Create instance of TF Classifier"
   ]
  },
  {
   "cell_type": "markdown",
   "id": "990b68a8",
   "metadata": {},
   "source": [
    "First layer has 68 neurons because we're using 17 nucleotide sequences and we're dealing with the 4 nucleotides that make up the genetic code."
   ]
  },
  {
   "cell_type": "code",
   "execution_count": 21,
   "id": "a626f635",
   "metadata": {},
   "outputs": [],
   "source": [
    "layers_clf = [{'input_dim': 68, 'output_dim': 34, 'activation': 'relu'},\n",
    "              {'input_dim': 34, 'output_dim': 1, 'activation': 'sigmoid'},]\n",
    "tf_clf = nn.NeuralNetwork(layers_clf, lr = 0.0001, seed = 0, batch_size = 200, epochs = 10, loss_function = \"bce\")"
   ]
  },
  {
   "cell_type": "code",
   "execution_count": 22,
   "id": "1cedfa52",
   "metadata": {},
   "outputs": [],
   "source": [
    "train_loss, val_loss = tf_clf.fit(X_train, y_train, X_test, y_test)"
   ]
  },
  {
   "cell_type": "code",
   "execution_count": 17,
   "id": "fa535dee",
   "metadata": {},
   "outputs": [
    {
     "data": {
      "text/plain": [
       "[0.7108239068847924,\n",
       " 0.7094185217631566,\n",
       " 0.708228692612189,\n",
       " 0.7007721495835139,\n",
       " 0.7014532684606309,\n",
       " 0.6977285783321082,\n",
       " 0.6952390825791009,\n",
       " 0.6929923681884715,\n",
       " 0.6905302583071853,\n",
       " 0.693689905611482,\n",
       " 0.6912731320847639,\n",
       " 0.6873174572051525,\n",
       " 0.6855487101335174,\n",
       " 0.6887728899121579,\n",
       " 0.6875084434753352,\n",
       " 0.6818647555171474,\n",
       " 0.6830440057801545,\n",
       " 0.6796533627209672,\n",
       " 0.6795367738061814,\n",
       " 0.6819082091658022,\n",
       " 0.6767138042612644,\n",
       " 0.6791244104204298,\n",
       " 0.6709095806645652,\n",
       " 0.6816441081497321,\n",
       " 0.6706981619977828,\n",
       " 0.6832663958293865,\n",
       " 0.6810741108418792,\n",
       " 0.6913411680565119,\n",
       " 0.693428284907371,\n",
       " 0.688329076287631,\n",
       " 0.6915666569836693,\n",
       " 0.6950015107678276,\n",
       " 0.6967280753997293,\n",
       " 0.6960932104116326,\n",
       " 0.7035147989388831,\n",
       " 0.6954734113788383,\n",
       " 0.7086305113456802,\n",
       " 0.7084936530027306,\n",
       " 0.7094452342179091,\n",
       " 0.6925342508412341,\n",
       " 0.7168036637207104,\n",
       " 0.7298427325212729,\n",
       " 0.7153715937364236,\n",
       " 0.731380164247178,\n",
       " 0.7165926274663265,\n",
       " 0.717246892289121,\n",
       " 0.752676054885769,\n",
       " 0.7427805967121254,\n",
       " 0.7560158065997702,\n",
       " 0.7616066306191785,\n",
       " 0.7594754258007899,\n",
       " 0.7722735907042378,\n",
       " 0.7620328821720928,\n",
       " 0.7593098942189179,\n",
       " 0.7752732154453025,\n",
       " 0.7726556342681733,\n",
       " 0.8312046293527027,\n",
       " 0.7912216835891893,\n",
       " 0.8130787610884102,\n",
       " 0.8075750712902919,\n",
       " 0.8256266887256947,\n",
       " 0.8079103123701492,\n",
       " 0.7932453704421348,\n",
       " 0.826901065185958,\n",
       " 0.8159839773327705,\n",
       " 0.8209143901536096,\n",
       " 0.8489053671425562,\n",
       " 0.8904397028872715,\n",
       " 0.8603399193159237,\n",
       " 0.8849758251326585,\n",
       " 0.8973319609324729,\n",
       " 0.8697994666825503,\n",
       " 0.9040148853074481,\n",
       " 0.8801485150683094,\n",
       " 0.9090446723296809,\n",
       " 0.9015317414369253,\n",
       " 0.9039842449647858,\n",
       " 0.9183307110873277,\n",
       " 0.9098413153555294,\n",
       " 0.9282361345638769,\n",
       " 0.9341321327675313,\n",
       " 0.9282240907426299,\n",
       " 0.9408796200649637,\n",
       " 0.9634762401879307,\n",
       " 0.9797788983762625,\n",
       " 0.9593217487632794,\n",
       " 0.9669889271797236,\n",
       " 0.93394244307978,\n",
       " 0.991280834713156,\n",
       " 0.9997526651261179,\n",
       " 0.9980629426872154,\n",
       " 0.9943707832404101,\n",
       " 1.022561554606526,\n",
       " 1.024921355686681,\n",
       " 1.0016039135632078,\n",
       " 1.00691934528178,\n",
       " 1.0582554640367452,\n",
       " 1.0018078451338677,\n",
       " 1.0434269029740932,\n",
       " 1.0526703058930549,\n",
       " 1.0713924974566984,\n",
       " 1.1020139981221275,\n",
       " 1.0738753120755127,\n",
       " 1.0670512652847268,\n",
       " 1.1066970841345305,\n",
       " 1.1058791239598629,\n",
       " 1.1176053462388307,\n",
       " 1.0979627819687434,\n",
       " 1.0787143383076356,\n",
       " 1.0822156469207462,\n",
       " 1.1549475685305493,\n",
       " 1.123483392821037,\n",
       " 1.1815444383916587,\n",
       " 1.1307232433331502,\n",
       " 1.1637008544785674,\n",
       " 1.1518597044572891,\n",
       " 1.164223553241047,\n",
       " 1.172051071369894,\n",
       " 1.1933457764939537,\n",
       " 1.1803672854793206,\n",
       " 1.1509346379567247,\n",
       " 1.1696336120103508,\n",
       " 1.2291477818619534,\n",
       " 1.17739230081013,\n",
       " 1.211233340847109,\n",
       " 1.2063587671191354,\n",
       " 1.1778480919280236,\n",
       " 1.2808922830759488,\n",
       " 1.2537415777050307,\n",
       " 1.3365728134443304,\n",
       " 1.3433961235821046,\n",
       " 1.3501812184002078,\n",
       " 1.356928661538769,\n",
       " 1.363638844814072,\n",
       " 1.3703112268459157,\n",
       " 1.3769445989581102,\n",
       " 1.3835398983571343,\n",
       " 1.3900974996225892,\n",
       " 1.3966175179065585]"
      ]
     },
     "execution_count": 17,
     "metadata": {},
     "output_type": "execute_result"
    }
   ],
   "source": [
    "train_loss"
   ]
  },
  {
   "cell_type": "code",
   "execution_count": 18,
   "id": "3cad7325",
   "metadata": {},
   "outputs": [
    {
     "data": {
      "text/plain": [
       "[0.711041061135379,\n",
       " 0.7069235348831511,\n",
       " 0.7033368402611835,\n",
       " 0.700335655019907,\n",
       " 0.6976286376040091,\n",
       " 0.6956107646303511,\n",
       " 0.6937548147039138,\n",
       " 0.6921099948834065,\n",
       " 0.6905444005536192,\n",
       " 0.6892500212988335,\n",
       " 0.687856892754066,\n",
       " 0.6865401209499102,\n",
       " 0.6853472655390951,\n",
       " 0.6842957863046317,\n",
       " 0.6833911282291357,\n",
       " 0.6825352166310149,\n",
       " 0.6819000849281138,\n",
       " 0.6814673254813141,\n",
       " 0.6811691830166091,\n",
       " 0.6810448176936806,\n",
       " 0.68103295230897,\n",
       " 0.6812375540585035,\n",
       " 0.6815794318213233,\n",
       " 0.6823091538088656,\n",
       " 0.6830431543470353,\n",
       " 0.6841937910588093,\n",
       " 0.6854614980397682,\n",
       " 0.6870398977198002,\n",
       " 0.6887583914851114,\n",
       " 0.6906443835191862,\n",
       " 0.6926751320073015,\n",
       " 0.6949177684901178,\n",
       " 0.6973669925173771,\n",
       " 0.6999450774036111,\n",
       " 0.702770694786808,\n",
       " 0.7055797455213025,\n",
       " 0.7086448714315473,\n",
       " 0.7118773342740827,\n",
       " 0.7152142083678575,\n",
       " 0.7185071220882471,\n",
       " 0.7221194114769844,\n",
       " 0.7259609638749865,\n",
       " 0.7297904962919455,\n",
       " 0.7338481959033538,\n",
       " 0.7378291932803601,\n",
       " 0.7419654885499379,\n",
       " 0.7465110325375733,\n",
       " 0.7510446568250165,\n",
       " 0.7557496878805702,\n",
       " 0.7605493847517456,\n",
       " 0.7654321109676028,\n",
       " 0.7704453015346644,\n",
       " 0.7754449215873338,\n",
       " 0.780507706887912,\n",
       " 0.7856996442483701,\n",
       " 0.7909007845798998,\n",
       " 0.7967905846004992,\n",
       " 0.8022579086917138,\n",
       " 0.8079746863790129,\n",
       " 0.8136787686230376,\n",
       " 0.8196034552107171,\n",
       " 0.8253266363856915,\n",
       " 0.8308977170525422,\n",
       " 0.8367988872278901,\n",
       " 0.8425381308875287,\n",
       " 0.8483913768741108,\n",
       " 0.854499867004926,\n",
       " 0.8610153403035162,\n",
       " 0.8672476325002676,\n",
       " 0.873711986990583,\n",
       " 0.8802750223444366,\n",
       " 0.8865260841944625,\n",
       " 0.8931041503851818,\n",
       " 0.8994184764709391,\n",
       " 0.9059513191796953,\n",
       " 0.9123696387855913,\n",
       " 0.9187462888864734,\n",
       " 0.9252453365787524,\n",
       " 0.9316084963047836,\n",
       " 0.9381041194768912,\n",
       " 0.944665385450572,\n",
       " 0.9510718828193755,\n",
       " 0.9575025177896699,\n",
       " 0.9641301660090236,\n",
       " 0.970907650846223,\n",
       " 0.9773955668661892,\n",
       " 0.9839032219901228,\n",
       " 0.9900480338205652,\n",
       " 0.9966444378595223,\n",
       " 1.0031701221966096,\n",
       " 1.0096559558892972,\n",
       " 1.016100866181364,\n",
       " 1.0226906312350093,\n",
       " 1.0292299486581753,\n",
       " 1.035542426667401,\n",
       " 1.0417764056132597,\n",
       " 1.048354955762286,\n",
       " 1.0544528971512361,\n",
       " 1.0608184825079534,\n",
       " 1.067235717097132,\n",
       " 1.0737308566224835,\n",
       " 1.080323398760204,\n",
       " 1.0866816293787753,\n",
       " 1.0929080953485681,\n",
       " 1.0994060675689439,\n",
       " 1.1057635244729518,\n",
       " 1.112059659085285,\n",
       " 1.1181450701410869,\n",
       " 1.1240550126753055,\n",
       " 1.1299250610747942,\n",
       " 1.1362095076487135,\n",
       " 1.1422247766625682,\n",
       " 1.1486076797097136,\n",
       " 1.1545718238792564,\n",
       " 1.1606889134790812,\n",
       " 1.1666600855453488,\n",
       " 1.1726162461172516,\n",
       " 1.1786413728807736,\n",
       " 1.1847007612560367,\n",
       " 1.1905691912580187,\n",
       " 1.1961986082910743,\n",
       " 1.2018581803919792,\n",
       " 1.2079012662014303,\n",
       " 1.2135472092838726,\n",
       " 1.219286869217826,\n",
       " 1.2249552389405063,\n",
       " 1.2303495067092152,\n",
       " 1.2364309850220905,\n",
       " 1.2422607647294779,\n",
       " 1.2485215098409208,\n",
       " 1.254748064934568,\n",
       " 1.260940759453853,\n",
       " 1.2670995541126882,\n",
       " 1.2732244837554243,\n",
       " 1.2793150407703489,\n",
       " 1.2853715646246648,\n",
       " 1.2913941087640206,\n",
       " 1.2973828598330144,\n",
       " 1.3033373026096535]"
      ]
     },
     "execution_count": 18,
     "metadata": {},
     "output_type": "execute_result"
    }
   ],
   "source": [
    "val_loss"
   ]
  },
  {
   "cell_type": "code",
   "execution_count": 19,
   "id": "544e8c44",
   "metadata": {},
   "outputs": [
    {
     "data": {
      "image/png": "[encoded data removed]",
      "text/plain": [
       "<Figure size 432x288 with 1 Axes>"
      ]
     },
     "metadata": {
      "needs_background": "light"
     },
     "output_type": "display_data"
    }
   ],
   "source": [
    "plt.plot(train_loss)\n",
    "plt.show()"
   ]
  },
  {
   "cell_type": "code",
   "execution_count": 20,
   "id": "6761a289",
   "metadata": {},
   "outputs": [
    {
     "data": {
      "image/png": "[encoded data removed]",
      "text/plain": [
       "<Figure size 432x288 with 1 Axes>"
      ]
     },
     "metadata": {
      "needs_background": "light"
     },
     "output_type": "display_data"
    }
   ],
   "source": [
    "plt.plot(val_loss)\n",
    "plt.show()"
   ]
  },
  {
   "cell_type": "code",
   "execution_count": null,
   "id": "33f3c7f6",
   "metadata": {},
   "outputs": [],
   "source": []
  }
 ],
 "metadata": {
  "kernelspec": {
   "display_name": "Python 3 (ipykernel)",
   "language": "python",
   "name": "python3"
  },
  "language_info": {
   "codemirror_mode": {
    "name": "ipython",
    "version": 3
   },
   "file_extension": ".py",
   "mimetype": "text/x-python",
   "name": "python",
   "nbconvert_exporter": "python",
   "pygments_lexer": "ipython3",
   "version": "3.9.7"
  }
 },
 "nbformat": 4,
 "nbformat_minor": 5
}

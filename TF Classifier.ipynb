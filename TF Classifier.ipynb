{
 "cells": [
  {
   "cell_type": "markdown",
   "id": "af33b616",
   "metadata": {},
   "source": [
    "## Import the necessary libraries"
   ]
  },
  {
   "cell_type": "code",
   "execution_count": 1,
   "id": "f42f0f42",
   "metadata": {},
   "outputs": [],
   "source": [
    "from nn import nn, preprocess, io\n",
    "import numpy as np\n",
    "import matplotlib.pyplot as plt\n",
    "from sklearn.model_selection import train_test_split"
   ]
  },
  {
   "cell_type": "markdown",
   "id": "6c8151d6",
   "metadata": {},
   "source": [
    "## Read in the positive and negative sequence files"
   ]
  },
  {
   "cell_type": "code",
   "execution_count": 2,
   "id": "96c2c681",
   "metadata": {},
   "outputs": [],
   "source": [
    "pos_seqs = io.read_text_file(\"./data/rap1-lieb-positives.txt\")\n",
    "neg_seqs = io.read_fasta_file(\"./data/yeast-upstream-1k-negative.fa\")"
   ]
  },
  {
   "cell_type": "markdown",
   "id": "31cca30d",
   "metadata": {},
   "source": [
    "## Split the data"
   ]
  },
  {
   "cell_type": "markdown",
   "id": "a0413aed",
   "metadata": {},
   "source": [
    "The positive sequences are 17 nucleotides in length, whereas the negative sequences are 1,000 nucleotides each. We will therefore split the negative sequences into 17 nucleotide fragments, which therefore accounts for sequence length discrepancies."
   ]
  },
  {
   "cell_type": "code",
   "execution_count": 3,
   "id": "29a722df",
   "metadata": {},
   "outputs": [],
   "source": [
    "target_length = len(pos_seqs[0])\n",
    "negatives_split = []\n",
    "for seq in neg_seqs:\n",
    "    split = []\n",
    "    for i in range(int(len(seq)/target_length)):\n",
    "        split.append(seq[i*target_length:(i+1)*target_length])\n",
    "    negatives_split += split"
   ]
  },
  {
   "cell_type": "markdown",
   "id": "bc9be164",
   "metadata": {},
   "source": [
    "Now we just concatenate the two groups of sequences into our X feature matrix. Additionally, we create a target vector with 0s and 1s (negative seqs and positive seqs, respectively). The amount of 0s and 1s corresponds to the number of negative and positive sequences."
   ]
  },
  {
   "cell_type": "code",
   "execution_count": 4,
   "id": "ef696c40",
   "metadata": {},
   "outputs": [],
   "source": [
    "X = pos_seqs + negatives_split\n",
    "y = np.concatenate([np.ones(len(pos_seqs)), np.zeros(len(negatives_split))]).tolist()"
   ]
  },
  {
   "cell_type": "markdown",
   "id": "8e34b72e",
   "metadata": {},
   "source": [
    "## Implement upsampling procedure"
   ]
  },
  {
   "cell_type": "markdown",
   "id": "5237abd4",
   "metadata": {},
   "source": [
    "The implemented scheme takes the less predominant label and samples from it with replacement. It samples until it's the same size as the predominant label. This upsamples the minority label to increase its signal and balance the data. We then sample the corresponding sequences using these balanced labels."
   ]
  },
  {
   "cell_type": "code",
   "execution_count": 5,
   "id": "c559ecf5",
   "metadata": {},
   "outputs": [],
   "source": [
    "X, y = preprocess.sample_seqs(X, y)"
   ]
  },
  {
   "cell_type": "markdown",
   "id": "a55fb26e",
   "metadata": {},
   "source": [
    "## One-Hot Encoding procedure"
   ]
  },
  {
   "cell_type": "markdown",
   "id": "f8217c59",
   "metadata": {},
   "source": [
    "This scheme implements a dictionary with the numerical encodings for each nucleotide. It iterates over all of the sequences given as input, and applies a list comprehension to each character in the string it's reading, creating a numpy array with the values from the nucleotide encoding dictionary. "
   ]
  },
  {
   "cell_type": "code",
   "execution_count": 6,
   "id": "95680615",
   "metadata": {},
   "outputs": [],
   "source": [
    "X = preprocess.one_hot_encode_seqs(X)"
   ]
  },
  {
   "cell_type": "markdown",
   "id": "67db811f",
   "metadata": {},
   "source": [
    "## Split the data"
   ]
  },
  {
   "cell_type": "markdown",
   "id": "0f4ae728",
   "metadata": {},
   "source": [
    "Not much to say, this is the Scikit-Learn implementation for splitting data, most commonly for ML applications. I used a random state of 42 because it's the answer to the ultimate question of life, the universe, and everything, and a standard split of 70/30 (training/test)."
   ]
  },
  {
   "cell_type": "code",
   "execution_count": 7,
   "id": "7f4d2e5a",
   "metadata": {},
   "outputs": [],
   "source": [
    "X_train, X_test, y_train, y_test = train_test_split(X, y, test_size=0.3, random_state=42)"
   ]
  },
  {
   "cell_type": "code",
   "execution_count": 8,
   "id": "cbe803dc",
   "metadata": {},
   "outputs": [],
   "source": [
    "y_train = np.array(y_train) # Convert the target vectors to numpy arrays to interact with the neural network\n",
    "y_test = np.array(y_test)"
   ]
  },
  {
   "cell_type": "markdown",
   "id": "95ff0a93",
   "metadata": {},
   "source": [
    "## Create instance of TF Classifier"
   ]
  },
  {
   "cell_type": "markdown",
   "id": "990b68a8",
   "metadata": {},
   "source": [
    "First layer has 68 neurons because we're using 17 nucleotide sequences and we're dealing with the 4 nucleotides that make up the genetic code. The second layer has 34 neurons because this is a binary classification problem. And finally, we have one output, where we essentially get a 0 or 1 (not a TF binding site, or yes TF binding site, respectively). Each layer has a sigmoid activation function because this is all in all a binary classification problem, and this function tackles this problem well.\n",
    "\n",
    "The learning rate is super small because otherwise the loss starts increasing with each epoch. While this means that the weights are updated very little for each iteration, nevertheless it appears that the model converges in terms of loss (once we look at the results).\n",
    "\n",
    "The batch size is 2,000 to speed up training, as otherwise the model took significantly longer to fit to the training data.\n",
    "\n",
    "Finally, I chose the binary cross entropy loss function because its utility for classifiers is well-documented (see for example this work by Ruby et al: https://www.researchgate.net/profile/Vamsidhar-Yendapalli/publication/344854379_Binary_cross_entropy_with_deep_learning_technique_for_Image_classification/links/5f93eed692851c14bce1ac68/Binary-cross-entropy-with-deep-learning-technique-for-Image-classification.pdf). "
   ]
  },
  {
   "cell_type": "code",
   "execution_count": 9,
   "id": "dd5a13b0",
   "metadata": {},
   "outputs": [],
   "source": [
    "arch = [{'input_dim': 68, 'output_dim': 34, 'activation': 'sigmoid'},\n",
    "       {'input_dim': 34, 'output_dim': 1, 'activation': 'sigmoid'}] # output layer\n",
    "\n",
    "lr = 0.00001 \n",
    "n_seed = 42\n",
    "batch_size = 2000 \n",
    "epochs = 100\n",
    "loss_fun = 'bce'\n",
    "\n",
    "tf_clf_nn = nn.NeuralNetwork(arch, lr, n_seed, batch_size, epochs, loss_fun)"
   ]
  },
  {
   "cell_type": "code",
   "execution_count": 10,
   "id": "1cedfa52",
   "metadata": {},
   "outputs": [],
   "source": [
    "train_loss, val_loss = tf_clf_nn.fit(X_train, y_train, X_test, y_test)"
   ]
  },
  {
   "cell_type": "markdown",
   "id": "dd4e51be",
   "metadata": {},
   "source": [
    "## Plot the training and validation loss per epoch"
   ]
  },
  {
   "cell_type": "code",
   "execution_count": 11,
   "id": "544e8c44",
   "metadata": {},
   "outputs": [
    {
     "data": {
      "image/png": "[encoded data removed]",
      "text/plain": [
       "<Figure size 432x288 with 1 Axes>"
      ]
     },
     "metadata": {
      "needs_background": "light"
     },
     "output_type": "display_data"
    }
   ],
   "source": [
    "plt.plot(train_loss)\n",
    "plt.show()"
   ]
  },
  {
   "cell_type": "code",
   "execution_count": 12,
   "id": "6761a289",
   "metadata": {},
   "outputs": [
    {
     "data": {
      "image/png": "[encoded data removed]",
      "text/plain": [
       "<Figure size 432x288 with 1 Axes>"
      ]
     },
     "metadata": {
      "needs_background": "light"
     },
     "output_type": "display_data"
    }
   ],
   "source": [
    "plt.plot(val_loss)\n",
    "plt.show()"
   ]
  },
  {
   "cell_type": "code",
   "execution_count": 13,
   "id": "52ddcc58",
   "metadata": {},
   "outputs": [],
   "source": [
    "preds = tf_clf_nn.predict(X_test)"
   ]
  },
  {
   "cell_type": "code",
   "execution_count": 14,
   "id": "48c24c0b",
   "metadata": {},
   "outputs": [
    {
     "data": {
      "text/plain": [
       "array([0., 1., 1., ..., 1., 0., 0.])"
      ]
     },
     "execution_count": 14,
     "metadata": {},
     "output_type": "execute_result"
    }
   ],
   "source": [
    "y_test"
   ]
  },
  {
   "cell_type": "markdown",
   "id": "263d6478",
   "metadata": {},
   "source": [
    "## Model Accuracy"
   ]
  },
  {
   "cell_type": "code",
   "execution_count": 15,
   "id": "01f20694",
   "metadata": {},
   "outputs": [
    {
     "data": {
      "text/plain": [
       "0.0"
      ]
     },
     "execution_count": 15,
     "metadata": {},
     "output_type": "execute_result"
    }
   ],
   "source": [
    "flattened_preds = preds.flatten()\n",
    "np.sum(np.isclose(flattened_preds, y_test))/len(y_test) # Not really working"
   ]
  },
  {
   "cell_type": "code",
   "execution_count": 16,
   "id": "afb3427a",
   "metadata": {},
   "outputs": [
    {
     "data": {
      "text/plain": [
       "array([0.43355702, 0.42147828, 0.42275609, ..., 0.42042644, 0.42626723,\n",
       "       0.44931526])"
      ]
     },
     "execution_count": 16,
     "metadata": {},
     "output_type": "execute_result"
    }
   ],
   "source": [
    "flattened_preds"
   ]
  },
  {
   "cell_type": "code",
   "execution_count": null,
   "id": "3dce13b2",
   "metadata": {},
   "outputs": [],
   "source": []
  }
 ],
 "metadata": {
  "kernelspec": {
   "display_name": "Python 3 (ipykernel)",
   "language": "python",
   "name": "python3"
  },
  "language_info": {
   "codemirror_mode": {
    "name": "ipython",
    "version": 3
   },
   "file_extension": ".py",
   "mimetype": "text/x-python",
   "name": "python",
   "nbconvert_exporter": "python",
   "pygments_lexer": "ipython3",
   "version": "3.9.0"
  }
 },
 "nbformat": 4,
 "nbformat_minor": 5
}
